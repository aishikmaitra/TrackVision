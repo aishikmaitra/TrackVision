{
 "cells": [
  {
   "cell_type": "code",
   "execution_count": null,
   "metadata": {},
   "outputs": [],
   "source": [
    "import os\n",
    "import matplotlib.pyplot as plt\n",
    "import cv2\n",
    "import numpy as np\n",
    "import tensorflow as tf\n",
    "from tensorflow.keras.models import load_model\n",
    "\n",
    "input_path = \"\"\n",
    "\n",
    "confidence_threshold = 0.8\n",
    "\n",
    "model = load_model(\"terrain_classification_swish_deep.h5\")\n",
    "\n",
    "class_labels = {\n",
    "    0 : \"Sandy\",\n",
    "    1 : \"Rocky\",\n",
    "    2 : \"Grassy\",\n",
    "    3 : \"Marshy\"\n",
    "}"
   ]
  }
 ],
 "metadata": {
  "kernelspec": {
   "display_name": "Python 3",
   "language": "python",
   "name": "python3"
  },
  "language_info": {
   "name": "python",
   "version": "3.11.6"
  },
  "orig_nbformat": 4
 },
 "nbformat": 4,
 "nbformat_minor": 2
}
